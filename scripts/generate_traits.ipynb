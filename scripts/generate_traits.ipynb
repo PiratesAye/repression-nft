{
 "cells": [
  {
   "cell_type": "code",
   "execution_count": 1,
   "metadata": {},
   "outputs": [],
   "source": [
    "import os\n",
    "import json \n",
    "from tqdm import tqdm\n",
    "\n",
    "from langchain.llms import Ollama"
   ]
  },
  {
   "cell_type": "code",
   "execution_count": 2,
   "metadata": {},
   "outputs": [],
   "source": [
    "llm = Ollama(model=\"mistral\")"
   ]
  },
  {
   "cell_type": "code",
   "execution_count": 3,
   "metadata": {},
   "outputs": [],
   "source": [
    "data = json.load(open(\"../data/pictures.json\", \"r\"))"
   ]
  },
  {
   "cell_type": "code",
   "execution_count": 6,
   "metadata": {},
   "outputs": [],
   "source": [
    "prompt = f\"\"\"\n",
    "You will be provided with artwork description and title.\n",
    "Classify it into a emotion category and a theme category. Provide your output in json format with the keys: emotion and theme. \n",
    "Output json only and nothing else. If you're unsure output empty json. Example: \n",
    "{{\n",
    "    \"emotion\": \"neutral\",\n",
    "    \"theme\": \"food\"\n",
    "}}\n",
    "\"\"\""
   ]
  },
  {
   "cell_type": "code",
   "execution_count": 7,
   "metadata": {},
   "outputs": [
    {
     "name": "stderr",
     "output_type": "stream",
     "text": [
      "  1%|          | 1/187 [00:02<07:02,  2.27s/it]"
     ]
    },
    {
     "name": "stdout",
     "output_type": "stream",
     "text": [
      "couldnt parse\n"
     ]
    },
    {
     "name": "stderr",
     "output_type": "stream",
     "text": [
      " 12%|█▏        | 23/187 [00:14<01:47,  1.53it/s]"
     ]
    },
    {
     "name": "stdout",
     "output_type": "stream",
     "text": [
      "couldnt parse\n"
     ]
    },
    {
     "name": "stderr",
     "output_type": "stream",
     "text": [
      " 72%|███████▏  | 134/187 [01:11<00:34,  1.52it/s]"
     ]
    },
    {
     "name": "stdout",
     "output_type": "stream",
     "text": [
      "couldnt parse\n"
     ]
    },
    {
     "name": "stderr",
     "output_type": "stream",
     "text": [
      " 73%|███████▎  | 136/187 [01:13<00:32,  1.57it/s]"
     ]
    },
    {
     "name": "stdout",
     "output_type": "stream",
     "text": [
      "couldnt parse\n"
     ]
    },
    {
     "name": "stderr",
     "output_type": "stream",
     "text": [
      "100%|██████████| 187/187 [01:37<00:00,  1.92it/s]\n"
     ]
    }
   ],
   "source": [
    "for i, entry in enumerate(tqdm(data)):\n",
    "    if \"description\" not in entry:\n",
    "        continue\n",
    "    query = prompt + \"\\n\" + \"TITLE:\" + \"\\n\" + entry[\"title\"] + \"\\nDESCRIPTION:\"  + entry[\"description\"] \n",
    "    output = llm(query)\n",
    "    \n",
    "    try:\n",
    "        response = json.loads(llm(query))\n",
    "        \n",
    "    except:\n",
    "        print('couldnt parse')\n",
    "        continue\n",
    "\n",
    "    if \"епреси\" in entry[\"title\"]:\n",
    "        entry[\"theme\"] = \"repression\"\n",
    "    entry[\"number\"] = int(entry[\"number\"])\n",
    "    entry.update(response)\n",
    "    data[i] = entry\n",
    "    "
   ]
  },
  {
   "cell_type": "code",
   "execution_count": 8,
   "metadata": {},
   "outputs": [],
   "source": [
    "# sort by number\n",
    "data = sorted(data, key=lambda x: int(x[\"number\"]))"
   ]
  },
  {
   "cell_type": "code",
   "execution_count": 9,
   "metadata": {},
   "outputs": [],
   "source": [
    "# save data to json back\n",
    "with open(\"../data/pictures.json\", \"w\") as f:\n",
    "    json.dump(data, f, indent=4, ensure_ascii=False)"
   ]
  },
  {
   "cell_type": "code",
   "execution_count": null,
   "metadata": {},
   "outputs": [],
   "source": []
  }
 ],
 "metadata": {
  "kernelspec": {
   "display_name": "voice",
   "language": "python",
   "name": "python3"
  },
  "language_info": {
   "codemirror_mode": {
    "name": "ipython",
    "version": 3
   },
   "file_extension": ".py",
   "mimetype": "text/x-python",
   "name": "python",
   "nbconvert_exporter": "python",
   "pygments_lexer": "ipython3",
   "version": "3.10.12"
  }
 },
 "nbformat": 4,
 "nbformat_minor": 2
}
